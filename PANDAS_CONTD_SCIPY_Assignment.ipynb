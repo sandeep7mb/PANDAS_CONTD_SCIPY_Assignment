{
 "cells": [
  {
   "cell_type": "code",
   "execution_count": null,
   "metadata": {},
   "outputs": [],
   "source": [
    "Task 1 \n",
    "Read the dataset from below link"
   ]
  },
  {
   "cell_type": "code",
   "execution_count": 1,
   "metadata": {},
   "outputs": [],
   "source": [
    "import pandas as pd\n",
    "import numpy as np"
   ]
  },
  {
   "cell_type": "code",
   "execution_count": null,
   "metadata": {},
   "outputs": [],
   "source": [
    "varDataset = pd.read_csv('https://raw.githubusercontent.com/guipsamora/pandas_exercises/master/06_Stats/US_Baby_Names/US_Baby_Names_right.csv')"
   ]
  },
  {
   "cell_type": "code",
   "execution_count": null,
   "metadata": {},
   "outputs": [],
   "source": [
    "varDataset.head()"
   ]
  },
  {
   "cell_type": "code",
   "execution_count": null,
   "metadata": {},
   "outputs": [],
   "source": [
    "1 Delete unnamed columns"
   ]
  },
  {
   "cell_type": "code",
   "execution_count": null,
   "metadata": {},
   "outputs": [],
   "source": [
    "# add additinoal columns as target dataframe has just only 1 unnamed column\n",
    "varDataset['Unnamed: 1'] = np.random.randint(1,9999,varDataset.shape[0])\n",
    "varDataset['Unnamed: 2'] = np.random.randint(1,9999,varDataset.shape[0])\n",
    "\n",
    "varDataset.shape"
   ]
  },
  {
   "cell_type": "code",
   "execution_count": null,
   "metadata": {},
   "outputs": [],
   "source": [
    "# delete those columns\n",
    "varDataset.columns.str.contains('Unnamed:') == False"
   ]
  },
  {
   "cell_type": "code",
   "execution_count": null,
   "metadata": {},
   "outputs": [],
   "source": [
    "\n",
    "varDataset = varDataset.iloc[:,varDataset.columns.str.contains('Unnamed:')==False]\n",
    "varDataset.shape"
   ]
  },
  {
   "cell_type": "code",
   "execution_count": null,
   "metadata": {},
   "outputs": [],
   "source": [
    "\n",
    "2 show the distribution of male and female"
   ]
  },
  {
   "cell_type": "code",
   "execution_count": null,
   "metadata": {},
   "outputs": [],
   "source": [
    "varGroupByGender = varDataset.groupby('Gender')\n",
    "varGroupByGender['Id'].count()"
   ]
  },
  {
   "cell_type": "code",
   "execution_count": null,
   "metadata": {},
   "outputs": [],
   "source": [
    "3 show the top 5 most preferred names"
   ]
  },
  {
   "cell_type": "code",
   "execution_count": null,
   "metadata": {},
   "outputs": [],
   "source": [
    "# Group by Name column\n",
    "varGroupByNames = varDataset.groupby('Name')"
   ]
  },
  {
   "cell_type": "code",
   "execution_count": null,
   "metadata": {},
   "outputs": [],
   "source": [
    "# summarize the count into a dataframe\n",
    "summarizedByName = pd.DataFrame(varGroupByNames['Name'].count())\n",
    "summarizedByName.columns"
   ]
  },
  {
   "cell_type": "code",
   "execution_count": null,
   "metadata": {},
   "outputs": [],
   "source": [
    "# rename and sort by Count column to get top 5 names\n",
    "summarizedByName = summarizedByName.rename(columns={'Name': 'Count'})"
   ]
  },
  {
   "cell_type": "code",
   "execution_count": null,
   "metadata": {},
   "outputs": [],
   "source": [
    "4 What is the median name occurence in the dataset"
   ]
  },
  {
   "cell_type": "code",
   "execution_count": null,
   "metadata": {},
   "outputs": [],
   "source": [
    "\n",
    "medianNo = int(summarizedByName.shape[0]/2)"
   ]
  },
  {
   "cell_type": "code",
   "execution_count": null,
   "metadata": {},
   "outputs": [],
   "source": [
    "\n",
    "summarizedDF[medianNo-1:medianNo]"
   ]
  },
  {
   "cell_type": "code",
   "execution_count": null,
   "metadata": {},
   "outputs": [],
   "source": [
    "5 Distribution of male and female born count by dates"
   ]
  },
  {
   "cell_type": "code",
   "execution_count": null,
   "metadata": {},
   "outputs": [],
   "source": [
    "varGroupByYearGender = varDataset.groupby(['Year', 'Gender'])\n",
    "varGroupByYearGender['Name'].count()"
   ]
  },
  {
   "cell_type": "code",
   "execution_count": null,
   "metadata": {},
   "outputs": [],
   "source": [
    "Task 2: \n",
    "We have the min and max temparatures in a city in India for each months of the year. We would like to find a function to describe this and show it graphically, the dataset given below \n",
    "1 Fitting it to Periodiac function \n",
    "2 plot the fit"
   ]
  },
  {
   "cell_type": "code",
   "execution_count": null,
   "metadata": {},
   "outputs": [],
   "source": [
    "\n",
    "import pandas as pd\n",
    "import numpy as np\n",
    "import matplotlib.pyplot as plt\n",
    "from scipy import optimize as sco\n",
    "from scipy.interpolate import interp1d"
   ]
  },
  {
   "cell_type": "code",
   "execution_count": null,
   "metadata": {},
   "outputs": [],
   "source": [
    "# Given data\n",
    "MaxTem = list([39, 41, 43, 47,49,51,45,38,37,29,27,25])\n",
    "MinTem = list([21,23,27,28,32,35,31,28,21,19,17,18])\n",
    "months = np.arange(12) + 1\n",
    "months"
   ]
  },
  {
   "cell_type": "code",
   "execution_count": null,
   "metadata": {},
   "outputs": [],
   "source": [
    "\n",
    "# Plot given data to visualize the kind of function required\n",
    "plt.plot(months,MaxTem, 'or')\n",
    "plt.plot(months,MinTem, 'ob')"
   ]
  },
  {
   "cell_type": "code",
   "execution_count": null,
   "metadata": {},
   "outputs": [],
   "source": [
    "# write a function to get a relationship in sin form\n",
    "def randomFunction(x,a, b):    \n",
    "    return  a + b * np.sin(np.float64(x)/np.pi)\n",
    "\n",
    "# capture parameters using given data or training data\n",
    "params, extras = sco.curve_fit(randomFunction, months, MaxTem)\n",
    "params2, extras2 = sco.curve_fit(randomFunction, months, MinTem)\n",
    "print(params)\n",
    "print(params2)"
   ]
  },
  {
   "cell_type": "code",
   "execution_count": null,
   "metadata": {},
   "outputs": [],
   "source": [
    "# plot graphs by providing validation data and parameters\n",
    "plt.plot(months, randomFunction(months, *params), '-')\n",
    "plt.plot(months, randomFunction(months, *params2), '-')\n",
    "plt.plot(months,MaxTem, 'or')\n",
    "plt.plot(months,MinTem, 'ob')"
   ]
  }
 ],
 "metadata": {
  "kernelspec": {
   "display_name": "Python 3",
   "language": "python",
   "name": "python3"
  },
  "language_info": {
   "codemirror_mode": {
    "name": "ipython",
    "version": 3
   },
   "file_extension": ".py",
   "mimetype": "text/x-python",
   "name": "python",
   "nbconvert_exporter": "python",
   "pygments_lexer": "ipython3",
   "version": "3.7.1"
  }
 },
 "nbformat": 4,
 "nbformat_minor": 2
}
